{
 "cells": [
  {
   "cell_type": "code",
   "execution_count": null,
   "id": "98f318af",
   "metadata": {},
   "outputs": [
    {
     "name": "stdout",
     "output_type": "stream",
     "text": [
      "No null values\n",
      "There exist a case when having no record of rain (0mm) but the raining(s)\n",
      "There exist a case\n"
     ]
    },
    {
     "data": {
      "text/plain": [
       "np.False_"
      ]
     },
     "execution_count": 44,
     "metadata": {},
     "output_type": "execute_result"
    }
   ],
   "source": [
    "import pandas as pd\n",
    "import numpy as np\n",
    "from sklearn.preprocessing import StandardScaler\n",
    "from sklearn.preprocessing import OneHotEncoder\n",
    "\n",
    "data = pd.read_csv(\"../Code/Dataset/mpi_roof.csv\", encoding='latin-1')\n",
    "data['Date Time'] = pd.to_datetime(data['Date Time'], format='%d.%m.%Y %H:%M:%S')\n",
    "data = data.set_index(\"Date Time\")\n",
    "\n",
    "is_nan = data.isnull().values.any()\n",
    "if (is_nan):\n",
    "    print(\"There exist null values\")\n",
    "else:\n",
    "    print(\"No null values\")\n",
    "\n",
    "#Check if exist a case when having no record of rain (0mm) but the raining(s)\n",
    "checker =  not data.loc[(data['rain (mm)'] == 0) & (data['raining (s)'] > 0), ['rain (mm)', 'raining (s)']].empty\n",
    "if (checker):\n",
    "    print(\"There exist a case when having no record of rain (0mm) but the raining(s)\")\n",
    "else:\n",
    "    print(\"There is no case when having no record of rain (0mm) but the raining(s)\")\n",
    "\n",
    "\n",
    "#Check if exist a case when having no record of raining (s) but rain\n",
    "checker_2 = not data.loc[(data['rain (mm)'] > 0) & (data['raining (s)'] == 0), ['rain (mm)', 'raining (s)']].empty\n",
    "if (checker_2):\n",
    "    print(\"There exist a case\")\n",
    "else:\n",
    "    print(\"There is no case\")\n",
    "\n",
    "resample_data = data.resample('6h').mean()\n",
    "\n",
    "resample_data['Rain Rate (mm/h)'] = np.where((resample_data['raining (s)'] > 0), (resample_data['rain (mm)'] * 3600) / resample_data['raining (s)'], 0)\n",
    "resample_data['Is Rain'] = np.where(resample_data['Rain Rate (mm/h)'] >= 0.5, 'Yes', 'No')\n",
    "\n",
    "rain_condition = ['No Rain', 'Weak Rain', 'Moderate Rain', 'Heavy Rain', 'Very Heavy Rain', 'Shower', 'Cloudburst']\n",
    "rain_rate = [resample_data['Rain Rate (mm/h)'] < 0.5,\n",
    "             (resample_data['Rain Rate (mm/h)'] >= 0.5) & (resample_data['Rain Rate (mm/h)'] < 2),\n",
    "             (resample_data['Rain Rate (mm/h)'] >= 2) & (resample_data['Rain Rate (mm/h)'] < 6),\n",
    "             (resample_data['Rain Rate (mm/h)'] >= 6) & (resample_data['Rain Rate (mm/h)'] < 10),\n",
    "             (resample_data['Rain Rate (mm/h)'] >= 10) & (resample_data['Rain Rate (mm/h)'] < 18),\n",
    "             (resample_data['Rain Rate (mm/h)'] >= 18) & (resample_data['Rain Rate (mm/h)'] < 30),\n",
    "             resample_data['Rain Rate (mm/h)'] >= 30]\n",
    "resample_data['Rain Type'] = np.select(rain_rate, rain_condition, default='Unknown')\n",
    "resample_data.head()\n",
    "resample_data.to_csv(\"ten_file.csv\")\n",
    "\n",
    "#Preprocessing data\n",
    "scaler = StandardScaler()\n",
    "encoder = OneHotEncoder(sparse_output=False)\n",
    "regression_data = resample_data.drop(columns=['Is Rain', 'Rain Type'])\n",
    "categorical_columns = resample_data.select_dtypes(include=['object']).columns.tolist()\n",
    "\n",
    "one_hot_encoded = encoder.fit_transform(resample_data[categorical_columns])\n",
    "one_hot_df = pd.DataFrame(one_hot_encoded, columns=encoder.get_feature_names_out(categorical_columns), index=resample_data.index)\n",
    "\n",
    "regression_data_scaler = scaler.fit_transform(regression_data)\n",
    "regression_data_df = pd.DataFrame(regression_data_scaler, columns=regression_data.columns, index=regression_data.index)\n",
    "\n",
    "preprocessed_data = pd.concat([regression_data_df, one_hot_df], axis=1)\n",
    "preprocessed_data.head()\n"
   ]
  }
 ],
 "metadata": {
  "kernelspec": {
   "display_name": "Python 3",
   "language": "python",
   "name": "python3"
  },
  "language_info": {
   "codemirror_mode": {
    "name": "ipython",
    "version": 3
   },
   "file_extension": ".py",
   "mimetype": "text/x-python",
   "name": "python",
   "nbconvert_exporter": "python",
   "pygments_lexer": "ipython3",
   "version": "3.12.3"
  }
 },
 "nbformat": 4,
 "nbformat_minor": 5
}
